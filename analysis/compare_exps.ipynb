{
 "cells": [
  {
   "cell_type": "code",
   "execution_count": 1,
   "metadata": {},
   "outputs": [],
   "source": [
    "import numpy as np\n",
    "from matplotlib import pyplot as plt\n",
    "from incense import ExperimentLoader\n",
    "from utils import *\n",
    "\n",
    "from metatop.metamaterial import setup_metamaterial\n",
    "from metatop.image import img2func\n",
    "\n",
    "import pickle\n",
    "import incense\n",
    "from incense.artifact import PickleArtifact\n",
    "\n",
    "from metatop.optimization.optimizationstate import OptimizationState\n",
    "from metatop.filters import setup_filter, jax_projection\n",
    "from metatop.mechanics import calculate_elastic_constants\n",
    "from mechanics import polar_plot, rotate_elasticity_matrix\n",
    "\n",
    "loader = ExperimentLoader(\n",
    "    mongo_uri='mongodb://localhost:27017',\n",
    "    db_name='metatop'\n",
    ")"
   ]
  },
  {
   "cell_type": "code",
   "execution_count": 2,
   "metadata": {},
   "outputs": [],
   "source": [
    "idxs = ((509, 666),(510, 667),(529,668),(539,669),(553,670))\n",
    "\n",
    "orig_exps = [loader.find_by_id(id) for id,_ in idxs]\n",
    "rerun_exps = [loader.find_by_id(id) for _, id in idxs]"
   ]
  },
  {
   "cell_type": "code",
   "execution_count": 13,
   "metadata": {},
   "outputs": [
    {
     "name": "stdout",
     "output_type": "stream",
     "text": [
      "True\n"
     ]
    }
   ],
   "source": [
    "x = orig_exps[0].artifacts['509_HSA_m_1_seed_0.pkl'].as_type(PickleArtifact).render()['x']\n",
    "x2 = orig_exps[0].artifacts['509_HSA_m_1_seed_0.pkl'].as_type(PickleArtifact).render()['x_history'][-1]\n",
    "print(np.allclose(x, x2))"
   ]
  },
  {
   "cell_type": "code",
   "execution_count": 3,
   "metadata": {},
   "outputs": [],
   "source": [
    "def extract_first_x(exp):\n",
    "    for k,v in exp.artifacts.items():\n",
    "        if '.pkl' in k.lower():\n",
    "            return v.as_type(PickleArtifact).render()['x_history'][0][:-1]\n",
    "\n",
    "dists = []\n",
    "for orig_exp, rerun_exp in zip(orig_exps, rerun_exps):\n",
    "    orig_dist = extract_first_x(orig_exp)\n",
    "    rerun_dist = extract_first_x(rerun_exp)\n",
    "    dists.append((orig_dist, rerun_dist))"
   ]
  },
  {
   "cell_type": "code",
   "execution_count": 7,
   "metadata": {},
   "outputs": [
    {
     "name": "stdout",
     "output_type": "stream",
     "text": [
      "True\n",
      "True\n",
      "True\n",
      "True\n",
      "True\n"
     ]
    }
   ],
   "source": [
    "for orig_x, rerun_x in dists:\n",
    "    print(np.allclose(orig_x, rerun_x))"
   ]
  }
 ],
 "metadata": {
  "kernelspec": {
   "display_name": "meta_design",
   "language": "python",
   "name": "python3"
  },
  "language_info": {
   "codemirror_mode": {
    "name": "ipython",
    "version": 3
   },
   "file_extension": ".py",
   "mimetype": "text/x-python",
   "name": "python",
   "nbconvert_exporter": "python",
   "pygments_lexer": "ipython3",
   "version": "3.11.9"
  }
 },
 "nbformat": 4,
 "nbformat_minor": 2
}
